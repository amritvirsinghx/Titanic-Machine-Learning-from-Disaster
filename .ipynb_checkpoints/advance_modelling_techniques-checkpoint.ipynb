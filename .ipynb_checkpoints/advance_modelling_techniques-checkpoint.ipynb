{
 "cells": [
  {
   "cell_type": "code",
   "execution_count": 1,
   "metadata": {},
   "outputs": [],
   "source": [
    "#import base libraries\n",
    "import pandas as pd\n",
    "import numpy as np\n",
    "import matplotlib.pyplot as plt\n",
    "import seaborn as sns\n",
    "%matplotlib inline\n",
    "\n",
    "from collections import Counter\n",
    "\n",
    "from sklearn.ensemble import RandomForestClassifier, AdaBoostClassifier, GradientBoostingClassifier, ExtraTreesClassifier, VotingClassifier\n",
    "from sklearn.discriminant_analysis import LinearDiscriminantAnalysis\n",
    "from sklearn.linear_model import LogisticRegression\n",
    "from sklearn.neighbors import KNeighborsClassifier\n",
    "from sklearn.tree import DecisionTreeClassifier\n",
    "from sklearn.neural_network import MLPClassifier\n",
    "from sklearn.svm import SVC\n",
    "from sklearn.model_selection import GridSearchCV, cross_val_score, StratifiedKFold, learning_curve"
   ]
  },
  {
   "cell_type": "code",
   "execution_count": 2,
   "metadata": {},
   "outputs": [],
   "source": [
    "#load data\n",
    "train = pd.read_csv(\"dataset/train.csv\")\n",
    "test = pd.read_csv(\"dataset/test.csv\")"
   ]
  },
  {
   "cell_type": "markdown",
   "metadata": {},
   "source": [
    "## Outlier Detection"
   ]
  },
  {
   "cell_type": "code",
   "execution_count": 1,
   "metadata": {},
   "outputs": [],
   "source": [
    "#function for returning rows with outliers\n",
    "\n",
    "def detect_outliers(df,n,features):\n",
    "    \"\"\"\n",
    "    Takes a data frame df of features and returns a list of indices\n",
    "    corresponding to the observations containing more than n outlier according to the Tunkey Method\n",
    "    \"\"\"\n",
    "    outlier_indices=[]\n",
    "    \n",
    "    #iterate over features\n",
    "    \n",
    "    for col in features:\n",
    "        #1st quartile (25%)\n",
    "        Q1=np.percentile(df[col],25)\n",
    "        #3rd quartile (75%)\n",
    "        Q3=np.percentile(df[col,75])\n",
    "        #interquartile range(IQR)\n",
    "        IQR=Q3-Q1\n",
    "        \n",
    "        #outlier step\n",
    "        outlier_step=1.5*IQR\n",
    "        criteria=(df[col]<Q1-outlier_step)|(df[col]>Q1+outlier_step)        \n",
    "        #applying boolean mask to filter rows and get the indices\n",
    "        outlier_list_col = df[criteria].index\n",
    "        # append to list\n",
    "        outlier_indices.extend(outlier_list_col)\n",
    "        # intantiate a counter object from list\n",
    "        outlier_indices=Counter(outlier_list_col)\n",
    "        #flatten the counter itesm which are in from of tuple (a,b) \n",
    "        #and to multiple outliers if number of outliers in a row exceed 1, ie 2 or more\n",
    "        multiple_outliers = list( k for k, v in outlier_indices.items() if v > 1 )\n",
    "        \n",
    "        return multiple_outliers\n",
    "        \n"
   ]
  },
  {
   "cell_type": "code",
   "execution_count": null,
   "metadata": {},
   "outputs": [],
   "source": []
  }
 ],
 "metadata": {
  "kernelspec": {
   "display_name": "Python 3",
   "language": "python",
   "name": "python3"
  },
  "language_info": {
   "codemirror_mode": {
    "name": "ipython",
    "version": 3
   },
   "file_extension": ".py",
   "mimetype": "text/x-python",
   "name": "python",
   "nbconvert_exporter": "python",
   "pygments_lexer": "ipython3",
   "version": "3.7.4"
  }
 },
 "nbformat": 4,
 "nbformat_minor": 4
}
